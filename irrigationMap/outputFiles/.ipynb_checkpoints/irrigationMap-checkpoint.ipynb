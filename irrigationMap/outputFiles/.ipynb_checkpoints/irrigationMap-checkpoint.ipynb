{
 "cells": [
  {
   "cell_type": "code",
   "execution_count": 1,
   "metadata": {
    "scrolled": false
   },
   "outputs": [],
   "source": [
    "#!/usr/bin/python3\n",
    "\n",
    "import json\n",
    "import requests\n",
    "import pandas as pd\n",
    "import ssl\n",
    "import urllib.request\n",
    "import geopandas as gpd \n",
    "import psycopg2"
   ]
  },
  {
   "cell_type": "code",
   "execution_count": 2,
   "metadata": {},
   "outputs": [
    {
     "name": "stdout",
     "output_type": "stream",
     "text": [
      "field_boundaries_ru\n",
      "http://geoportal.addferti.eu/geoserver/ows?service=WFS&version=1.0.0&request=GetFeature&typename=geonode%3Afield_boundaries_ru&outputFormat=json\n",
      "EPSG of field_boundaries_ru: 32633\n"
     ]
    }
   ],
   "source": [
    "university = [\"ru\",\"bursa\"]\n",
    "\n",
    "for i in range(0,1):\n",
    "    # Create an SSL context that doesn't verify the certificates.\n",
    "    ssl_context = ssl.create_default_context()\n",
    "    ssl_context.check_hostname = False\n",
    "    ssl_context.verify_mode = ssl.CERT_NONE\n",
    "\n",
    "    # Download the Field Mask from GeoNode\n",
    "    filename = f\"field_boundaries_{university[i]}\"\n",
    "    URL1 = \"http://geoportal.addferti.eu/geoserver/ows\"\n",
    "    URL2 = \"?service=WFS&version=1.0.0&request=GetFeature&typename=geonode%3A\"\n",
    "    URL4 = filename\n",
    "    URL5 = \"&outputFormat=json\"\n",
    "    URL = URL1 + URL2 + URL4 + URL5\n",
    "    print(filename)\n",
    "    print(URL)\n",
    "    # Download the file.\n",
    "    with urllib.request.urlopen(URL, context=ssl_context) as response, open(f\"{filename}.geojson\", \"wb\") as out_file:\n",
    "        data = response.read()\n",
    "        out_file.write(data)\n",
    "\n",
    "    # Read the data using geopandas (simple feature = dataframe with geometry)\n",
    "    sf_Field_Mask = gpd.read_file(f\"{filename}.geojson\")\n",
    "    print(f\"EPSG of {filename}: {sf_Field_Mask.crs.to_epsg()}\")"
   ]
  },
  {
   "cell_type": "code",
   "execution_count": null,
   "metadata": {},
   "outputs": [],
   "source": [
    "\n"
   ]
  }
 ],
 "metadata": {
  "kernelspec": {
   "display_name": "Python 3 (ipykernel)",
   "language": "python",
   "name": "python3"
  },
  "language_info": {
   "codemirror_mode": {
    "name": "ipython",
    "version": 3
   },
   "file_extension": ".py",
   "mimetype": "text/x-python",
   "name": "python",
   "nbconvert_exporter": "python",
   "pygments_lexer": "ipython3",
   "version": "3.10.6"
  }
 },
 "nbformat": 4,
 "nbformat_minor": 2
}
